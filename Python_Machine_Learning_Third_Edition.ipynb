{
  "nbformat": 4,
  "nbformat_minor": 0,
  "metadata": {
    "colab": {
      "name": "Python Machine Learning - Third Edition.ipynb",
      "provenance": [],
      "collapsed_sections": [],
      "authorship_tag": "ABX9TyNcskF8tGiLpWWckW5cbg5s",
      "include_colab_link": true
    },
    "kernelspec": {
      "name": "python3",
      "display_name": "Python 3"
    }
  },
  "cells": [
    {
      "cell_type": "markdown",
      "metadata": {
        "id": "view-in-github",
        "colab_type": "text"
      },
      "source": [
        "<a href=\"https://colab.research.google.com/github/tgomes078/Numpy/blob/master/Python_Machine_Learning_Third_Edition.ipynb\" target=\"_parent\"><img src=\"https://colab.research.google.com/assets/colab-badge.svg\" alt=\"Open In Colab\"/></a>"
      ]
    },
    {
      "cell_type": "markdown",
      "metadata": {
        "id": "AdlMiUVT2bAy",
        "colab_type": "text"
      },
      "source": [
        "## Curso de Numpy"
      ]
    },
    {
      "cell_type": "code",
      "metadata": {
        "id": "fGS9ZxUJ2X6_",
        "colab_type": "code",
        "outputId": "01a798ae-3230-45f6-bc2d-87f8599f58eb",
        "colab": {
          "base_uri": "https://localhost:8080/",
          "height": 34
        }
      },
      "source": [
        "# Introdução Numpy\n",
        "import numpy as np\n",
        "\n",
        "# Criação de uma lista em Python\n",
        "lst = [[1,2,3],\n",
        "       [4,5,6]]\n",
        "lst"
      ],
      "execution_count": 11,
      "outputs": [
        {
          "output_type": "execute_result",
          "data": {
            "text/plain": [
              "[[1, 2, 3], [4, 5, 6]]"
            ]
          },
          "metadata": {
            "tags": []
          },
          "execution_count": 11
        }
      ]
    },
    {
      "cell_type": "code",
      "metadata": {
        "id": "mBTeFyO021nb",
        "colab_type": "code",
        "outputId": "debe4f02-65da-4344-d5e1-8f4bb740a9d7",
        "colab": {
          "base_uri": "https://localhost:8080/",
          "height": 50
        }
      },
      "source": [
        "# Lista em Numpy\n",
        "ary1d = np.array(lst)\n",
        "ary1d"
      ],
      "execution_count": 12,
      "outputs": [
        {
          "output_type": "execute_result",
          "data": {
            "text/plain": [
              "array([[1, 2, 3],\n",
              "       [4, 5, 6]])"
            ]
          },
          "metadata": {
            "tags": []
          },
          "execution_count": 12
        }
      ]
    },
    {
      "cell_type": "markdown",
      "metadata": {
        "id": "R93NQfSO36ol",
        "colab_type": "text"
      },
      "source": [
        "Figura 1 - Inlustração de uma matriz bidimensional Numpy\n",
        "\n",
        "![Figura 1 - Inlustração de uma matriz bidimensional Numpy](https://raw.githubusercontent.com/tgomes078/Numpy/master/Figura1-Inlustra%C3%A7%C3%A3o_de_uma_matriz_bidimensional_Numpy.png)"
      ]
    },
    {
      "cell_type": "code",
      "metadata": {
        "id": "tg2ceS9x0jhI",
        "colab_type": "code",
        "colab": {
          "base_uri": "https://localhost:8080/",
          "height": 34
        },
        "outputId": "7d34f6b9-8484-4f1b-daee-239ca709e1a1"
      },
      "source": [
        "# Tipo de dados da Matriz\n",
        "ary1d.dtype"
      ],
      "execution_count": 13,
      "outputs": [
        {
          "output_type": "execute_result",
          "data": {
            "text/plain": [
              "dtype('int64')"
            ]
          },
          "metadata": {
            "tags": []
          },
          "execution_count": 13
        }
      ]
    },
    {
      "cell_type": "code",
      "metadata": {
        "id": "1eTraG9u2gyW",
        "colab_type": "code",
        "colab": {
          "base_uri": "https://localhost:8080/",
          "height": 50
        },
        "outputId": "5d2fee30-169e-4e83-b46c-49dcd05b3147"
      },
      "source": [
        "# Alteração do tipo de dados da Matriz\n",
        "float32_ary = ary1d.astype(np.float32)\n",
        "float32_ary"
      ],
      "execution_count": 14,
      "outputs": [
        {
          "output_type": "execute_result",
          "data": {
            "text/plain": [
              "array([[1., 2., 3.],\n",
              "       [4., 5., 6.]], dtype=float32)"
            ]
          },
          "metadata": {
            "tags": []
          },
          "execution_count": 14
        }
      ]
    },
    {
      "cell_type": "code",
      "metadata": {
        "id": "f60he9LA2wgU",
        "colab_type": "code",
        "colab": {
          "base_uri": "https://localhost:8080/",
          "height": 34
        },
        "outputId": "2aa2390f-1057-4113-9223-dd6d1828c768"
      },
      "source": [
        "float32_ary.dtype"
      ],
      "execution_count": 15,
      "outputs": [
        {
          "output_type": "execute_result",
          "data": {
            "text/plain": [
              "dtype('float32')"
            ]
          },
          "metadata": {
            "tags": []
          },
          "execution_count": 15
        }
      ]
    },
    {
      "cell_type": "code",
      "metadata": {
        "id": "l0rKL8-j23fl",
        "colab_type": "code",
        "colab": {
          "base_uri": "https://localhost:8080/",
          "height": 34
        },
        "outputId": "47aed2c3-36f7-45f1-fc0b-29854f717180"
      },
      "source": [
        "# Verificando o tamanho em bits do array Numpy\n",
        "ary2d = np.array([[1, 2, 3],\n",
        "                  [4, 5, 6]], dtype='int64')\n",
        "ary2d.itemsize"
      ],
      "execution_count": 16,
      "outputs": [
        {
          "output_type": "execute_result",
          "data": {
            "text/plain": [
              "8"
            ]
          },
          "metadata": {
            "tags": []
          },
          "execution_count": 16
        }
      ]
    },
    {
      "cell_type": "code",
      "metadata": {
        "id": "gejlYM1u38Eq",
        "colab_type": "code",
        "colab": {
          "base_uri": "https://localhost:8080/",
          "height": 34
        },
        "outputId": "b036c7a2-05be-4dc8-8e9c-1724ccf3f7aa"
      },
      "source": [
        "# Identifica a quantidade de elementos de uma Matriz\n",
        "ary2d.size"
      ],
      "execution_count": 17,
      "outputs": [
        {
          "output_type": "execute_result",
          "data": {
            "text/plain": [
              "6"
            ]
          },
          "metadata": {
            "tags": []
          },
          "execution_count": 17
        }
      ]
    },
    {
      "cell_type": "code",
      "metadata": {
        "id": "Dib5R1ot4MTt",
        "colab_type": "code",
        "colab": {
          "base_uri": "https://localhost:8080/",
          "height": 34
        },
        "outputId": "f0b13c7b-97f8-492c-9313-636c48590693"
      },
      "source": [
        "# Identifica a quantidade de dimensões que a Matriz possui\n",
        "ary2d.ndim"
      ],
      "execution_count": 18,
      "outputs": [
        {
          "output_type": "execute_result",
          "data": {
            "text/plain": [
              "2"
            ]
          },
          "metadata": {
            "tags": []
          },
          "execution_count": 18
        }
      ]
    },
    {
      "cell_type": "code",
      "metadata": {
        "id": "J85sGCg74cVw",
        "colab_type": "code",
        "colab": {
          "base_uri": "https://localhost:8080/",
          "height": 34
        },
        "outputId": "61d928bc-bde9-4300-bb82-9047a6ae8815"
      },
      "source": [
        "# Identifica o número de eixos de uma Matriz (Linhas,Colunas)\n",
        "ary2d.shape"
      ],
      "execution_count": 19,
      "outputs": [
        {
          "output_type": "execute_result",
          "data": {
            "text/plain": [
              "(2, 3)"
            ]
          },
          "metadata": {
            "tags": []
          },
          "execution_count": 19
        }
      ]
    },
    {
      "cell_type": "code",
      "metadata": {
        "id": "_TpDX3r15N1Y",
        "colab_type": "code",
        "colab": {
          "base_uri": "https://localhost:8080/",
          "height": 34
        },
        "outputId": "a6394d9b-81ac-4d41-f748-c056ba1dac98"
      },
      "source": [
        "# Identifica a quantidade de columas de uma matriz dimensional\n",
        "# O Shape é sempre uma tupla\n",
        "np.array([1, 2, 3]).shape"
      ],
      "execution_count": 20,
      "outputs": [
        {
          "output_type": "execute_result",
          "data": {
            "text/plain": [
              "(3,)"
            ]
          },
          "metadata": {
            "tags": []
          },
          "execution_count": 20
        }
      ]
    },
    {
      "cell_type": "code",
      "metadata": {
        "id": "Rlar7z5X55Cb",
        "colab_type": "code",
        "colab": {
          "base_uri": "https://localhost:8080/",
          "height": 34
        },
        "outputId": "d688d99b-0c25-415c-a302-14d3ba75ef39"
      },
      "source": [
        "# Também podemos fornecer um único ponto flutuante ou número inteiro, que construirá um zero-dimensional\n",
        "array\n",
        "scalar = np.array(5)\n",
        "scalar"
      ],
      "execution_count": 21,
      "outputs": [
        {
          "output_type": "execute_result",
          "data": {
            "text/plain": [
              "array(5)"
            ]
          },
          "metadata": {
            "tags": []
          },
          "execution_count": 21
        }
      ]
    },
    {
      "cell_type": "code",
      "metadata": {
        "id": "9zvYGWFJ6CD5",
        "colab_type": "code",
        "colab": {
          "base_uri": "https://localhost:8080/",
          "height": 34
        },
        "outputId": "3f90ad2d-edcd-43f2-cae3-405eacb41df3"
      },
      "source": [
        "scalar.ndim"
      ],
      "execution_count": 22,
      "outputs": [
        {
          "output_type": "execute_result",
          "data": {
            "text/plain": [
              "0"
            ]
          },
          "metadata": {
            "tags": []
          },
          "execution_count": 22
        }
      ]
    },
    {
      "cell_type": "code",
      "metadata": {
        "id": "8py4GZpK6EnP",
        "colab_type": "code",
        "colab": {
          "base_uri": "https://localhost:8080/",
          "height": 34
        },
        "outputId": "ece263ec-bbcb-4cc9-fd5b-5c63dd839ef5"
      },
      "source": [
        "scalar.shape"
      ],
      "execution_count": 23,
      "outputs": [
        {
          "output_type": "execute_result",
          "data": {
            "text/plain": [
              "()"
            ]
          },
          "metadata": {
            "tags": []
          },
          "execution_count": 23
        }
      ]
    },
    {
      "cell_type": "markdown",
      "metadata": {
        "id": "SUFEGxfY8LEk",
        "colab_type": "text"
      },
      "source": [
        "A função array funciona com a maioria dos iterables no Python, incluindo listas, tuplas e objetos de intervalo; no entanto, a matriz não suporta expressões de gerador. Se queremos analisar geradores diretamente, no entanto, podemos usar a função **fromiter**, conforme demonstrado abaixo"
      ]
    },
    {
      "cell_type": "code",
      "metadata": {
        "id": "0klOJiqZ5vQX",
        "colab_type": "code",
        "colab": {
          "base_uri": "https://localhost:8080/",
          "height": 34
        },
        "outputId": "1fe37797-321d-42f8-875f-8151418549f7"
      },
      "source": [
        "def generator():\n",
        "    for i in range(10):\n",
        "        if i % 2:\n",
        "            yield i\n",
        "gen = generator()\n",
        "np.fromiter(gen, dtype=int)"
      ],
      "execution_count": 26,
      "outputs": [
        {
          "output_type": "execute_result",
          "data": {
            "text/plain": [
              "array([1, 3, 5, 7, 9])"
            ]
          },
          "metadata": {
            "tags": []
          },
          "execution_count": 26
        }
      ]
    },
    {
      "cell_type": "code",
      "metadata": {
        "id": "G0ZyZ02L8J9Z",
        "colab_type": "code",
        "colab": {
          "base_uri": "https://localhost:8080/",
          "height": 34
        },
        "outputId": "6d01f7a0-a1c7-45dd-8c5e-be38518393df"
      },
      "source": [
        "  gen"
      ],
      "execution_count": 27,
      "outputs": [
        {
          "output_type": "execute_result",
          "data": {
            "text/plain": [
              "<generator object generator at 0x7f310f406990>"
            ]
          },
          "metadata": {
            "tags": []
          },
          "execution_count": 27
        }
      ]
    },
    {
      "cell_type": "code",
      "metadata": {
        "id": "f_SA7W0DBAGq",
        "colab_type": "code",
        "colab": {
          "base_uri": "https://localhost:8080/",
          "height": 34
        },
        "outputId": "ffdd336d-c3e6-415c-e991-cf064e77c9e3"
      },
      "source": [
        "# Usando 'comprehensions' a seguinte expressão do gerador é equivalente ao code {generator} acima\n",
        "generator_expression = (i for i in range(10) if i % 2)\n",
        "np.fromiter(generator_expression, dtype=int)"
      ],
      "execution_count": 30,
      "outputs": [
        {
          "output_type": "execute_result",
          "data": {
            "text/plain": [
              "array([1, 3, 5, 7, 9])"
            ]
          },
          "metadata": {
            "tags": []
          },
          "execution_count": 30
        }
      ]
    },
    {
      "cell_type": "code",
      "metadata": {
        "id": "XAmOnetmBRg1",
        "colab_type": "code",
        "colab": {
          "base_uri": "https://localhost:8080/",
          "height": 34
        },
        "outputId": "6334f8e9-58ad-4fe3-a36d-9d2bef5a56f4"
      },
      "source": [
        "generator_expression"
      ],
      "execution_count": 31,
      "outputs": [
        {
          "output_type": "execute_result",
          "data": {
            "text/plain": [
              "<generator object <genexpr> at 0x7f310db61af0>"
            ]
          },
          "metadata": {
            "tags": []
          },
          "execution_count": 31
        }
      ]
    },
    {
      "cell_type": "code",
      "metadata": {
        "id": "vULDHXiBCCvw",
        "colab_type": "code",
        "colab": {
          "base_uri": "https://localhost:8080/",
          "height": 67
        },
        "outputId": "a1b6359e-8c5b-4559-8fe4-307017cb9f38"
      },
      "source": [
        "# Criação de uma matriz de três linhas e três colunas com o número um (1)\n",
        "np.ones((3, 3))"
      ],
      "execution_count": 32,
      "outputs": [
        {
          "output_type": "execute_result",
          "data": {
            "text/plain": [
              "array([[1., 1., 1.],\n",
              "       [1., 1., 1.],\n",
              "       [1., 1., 1.]])"
            ]
          },
          "metadata": {
            "tags": []
          },
          "execution_count": 32
        }
      ]
    },
    {
      "cell_type": "code",
      "metadata": {
        "id": "eu3rLS1uCT4l",
        "colab_type": "code",
        "colab": {
          "base_uri": "https://localhost:8080/",
          "height": 67
        },
        "outputId": "9a6b311c-4d17-4c4b-e66b-fc05587c8b2b"
      },
      "source": [
        "# Criação de uma matriz de três linhas e três colunas com o número zero (0)\n",
        "np.zeros((3, 3))"
      ],
      "execution_count": 33,
      "outputs": [
        {
          "output_type": "execute_result",
          "data": {
            "text/plain": [
              "array([[0., 0., 0.],\n",
              "       [0., 0., 0.],\n",
              "       [0., 0., 0.]])"
            ]
          },
          "metadata": {
            "tags": []
          },
          "execution_count": 33
        }
      ]
    },
    {
      "cell_type": "code",
      "metadata": {
        "id": "LEwf52q5FmvP",
        "colab_type": "code",
        "colab": {
          "base_uri": "https://localhost:8080/",
          "height": 67
        },
        "outputId": "cf47e559-ff37-40bb-ba3c-c2f79865cbf7"
      },
      "source": [
        "# Retorne uma matriz 2-D com as na diagonal e zeros em outro lugar.\n",
        "np.eye(3)"
      ],
      "execution_count": 34,
      "outputs": [
        {
          "output_type": "execute_result",
          "data": {
            "text/plain": [
              "array([[1., 0., 0.],\n",
              "       [0., 1., 0.],\n",
              "       [0., 0., 1.]])"
            ]
          },
          "metadata": {
            "tags": []
          },
          "execution_count": 34
        }
      ]
    },
    {
      "cell_type": "code",
      "metadata": {
        "id": "Dw7xpOiKF2c2",
        "colab_type": "code",
        "colab": {
          "base_uri": "https://localhost:8080/",
          "height": 67
        },
        "outputId": "b6823596-2af0-4929-be8f-7ebc074e065b"
      },
      "source": [
        "# Extraia uma diagonal ou construa uma matriz diagonal.\n",
        "np.diag((3, 3, 3))"
      ],
      "execution_count": 35,
      "outputs": [
        {
          "output_type": "execute_result",
          "data": {
            "text/plain": [
              "array([[3, 0, 0],\n",
              "       [0, 3, 0],\n",
              "       [0, 0, 3]])"
            ]
          },
          "metadata": {
            "tags": []
          },
          "execution_count": 35
        }
      ]
    },
    {
      "cell_type": "markdown",
      "metadata": {
        "id": "7bMMNU3muZL4",
        "colab_type": "text"
      },
      "source": [
        "## 1."
      ]
    },
    {
      "cell_type": "code",
      "metadata": {
        "id": "0cESG9djue5O",
        "colab_type": "code",
        "colab": {}
      },
      "source": [
        "import numpy as np\n",
        "class Perceptron(object):\n",
        "    \"\"\"Perceptron classifier.\n",
        "    \n",
        "    Parameters\n",
        "    ------------\n",
        "    eta : float\n",
        "      Learning rate (between 0.0 and 1.0)\n",
        "    n_iter : int\n",
        "      Passes over the training dataset.\n",
        "    random_state : int\n",
        "      Random number generator seed for random weight \n",
        "      initialization.\n",
        "    \n",
        "    Attributes\n",
        "    -----------\n",
        "    w_ : 1d-array\n",
        "      Weights after fitting.\n",
        "    errors_ : list\n",
        "      Number of misclassifications (updates) in each epoch.\n",
        "    \n",
        "    \"\"\"\n",
        "    def __init__(self, eta=0.01, n_iter=50, random_state=1):\n",
        "        self.eta = eta\n",
        "        self.n_iter = n_iter\n",
        "        self.random_state = random_state\n",
        "    \n",
        "    def fit(self, X, y):\n",
        "        \"\"\"Fit training data.\n",
        "        \n",
        "        Parameters\n",
        "        ----------\n",
        "        X : {array-like}, shape = [n_examples, n_features]\n",
        "          Training vectors, where n_examples is the number of \n",
        "          examples and n_features is the number of features.\n",
        "        y : array-like, shape = [n_examples]\n",
        "          Target values.\n",
        "        \n",
        "        Returns\n",
        "        -------\n",
        "        self : object\n",
        "        \n",
        "        \"\"\"\n",
        "        rgen = np.random.RandomState(self.random_state)\n",
        "        self.w_ = rgen.normal(loc=0.0, scale=0.01,\n",
        "                              size=1 + X.shape[1])\n",
        "        self.errors_ = []\n",
        "        \n",
        "        for _ in range(self.n_iter):\n",
        "            errors = 0\n",
        "            for xi, target in zip(X, y):\n",
        "                update = self.eta * (target - self.predict(xi))\n",
        "                self.w_[1:] += update * xi\n",
        "                self.w_[0] += update\n",
        "                errors += int(update != 0.0)\n",
        "            self.errors_.append(errors)\n",
        "        return self\n",
        "    \n",
        "    def net_input(self, X):\n",
        "        \"\"\"Calculate net input\"\"\"\n",
        "        return np.dot(X, self.w_[1:]) + self.w_[0]\n",
        "    \n",
        "    def predict(self, X):\n",
        "        \"\"\"Return class label after unit step\"\"\"\n",
        "        return np.where(self.net_input(X) >= 0.0, 1, -1)"
      ],
      "execution_count": 0,
      "outputs": []
    },
    {
      "cell_type": "markdown",
      "metadata": {
        "id": "bNeaJ7WywHfk",
        "colab_type": "text"
      },
      "source": [
        "## 3. Construindo bons conjuntos de dados de treinamento -  pré-processamento de dados\n",
        "\n",
        "Decision trees (Árvores de decisão) e Random forests (Florestas aleatórias) são duas das poucas algoritmos de aprendizagens de máquina onde não precisamos nos preocupar com o dimensionamento de recursos. Esses algoritmos são invariáveis ​​em escala."
      ]
    },
    {
      "cell_type": "code",
      "metadata": {
        "id": "YCmmyap1vMMG",
        "colab_type": "code",
        "colab": {}
      },
      "source": [
        ""
      ],
      "execution_count": 0,
      "outputs": []
    }
  ]
}